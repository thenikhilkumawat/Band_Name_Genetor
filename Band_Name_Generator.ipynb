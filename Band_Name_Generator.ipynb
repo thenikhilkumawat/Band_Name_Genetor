{
 "cells": [
  {
   "cell_type": "code",
   "execution_count": 1,
   "id": "179ecdec",
   "metadata": {},
   "outputs": [
    {
     "name": "stdout",
     "output_type": "stream",
     "text": [
      "welcome to the Band Name  Genertor\n",
      "Enter your City Name: jaipur\n",
      "Enter your Nick name: nikki\n",
      "Your Band Name is jaipur nikki\n"
     ]
    }
   ],
   "source": [
    "print(\"welcome to the Band Name  Genertor\")\n",
    "name1 = input(\"Enter your City Name: \")\n",
    "name2 = input(\"Enter your Nick name: \")\n",
    "print('Your Band Name is', name1 +\" \"+ name2)\n"
   ]
  },
  {
   "cell_type": "code",
   "execution_count": null,
   "id": "2aeb2e38",
   "metadata": {},
   "outputs": [],
   "source": []
  }
 ],
 "metadata": {
  "kernelspec": {
   "display_name": "Python 3 (ipykernel)",
   "language": "python",
   "name": "python3"
  },
  "language_info": {
   "codemirror_mode": {
    "name": "ipython",
    "version": 3
   },
   "file_extension": ".py",
   "mimetype": "text/x-python",
   "name": "python",
   "nbconvert_exporter": "python",
   "pygments_lexer": "ipython3",
   "version": "3.10.7"
  }
 },
 "nbformat": 4,
 "nbformat_minor": 5
}
